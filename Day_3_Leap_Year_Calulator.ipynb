{
 "cells": [
  {
   "cell_type": "code",
   "execution_count": 2,
   "metadata": {},
   "outputs": [
    {
     "name": "stdin",
     "output_type": "stream",
     "text": [
      "Which year do you want to check?  2596\n"
     ]
    }
   ],
   "source": [
    "year = int(input(\"Which year do you want to check? \"))"
   ]
  },
  {
   "cell_type": "code",
   "execution_count": 3,
   "metadata": {},
   "outputs": [
    {
     "name": "stdout",
     "output_type": "stream",
     "text": [
      "2596 IS a leap year.\n"
     ]
    }
   ],
   "source": [
    "if (year % 4) == 0 and (year % 100) != 0:\n",
    "    print(f\"{year} IS a leap year.\")\n",
    "    if (year % 400) == (year % 100) == 0:\n",
    "            print(f\"The year {year} IS a leap year.\")\n",
    "else:\n",
    "    print(f\"The year {year} is NOT a leap year.\")"
   ]
  },
  {
   "cell_type": "code",
   "execution_count": null,
   "metadata": {},
   "outputs": [],
   "source": []
  }
 ],
 "metadata": {
  "kernelspec": {
   "display_name": "Python 3",
   "language": "python",
   "name": "python3"
  },
  "language_info": {
   "codemirror_mode": {
    "name": "ipython",
    "version": 3
   },
   "file_extension": ".py",
   "mimetype": "text/x-python",
   "name": "python",
   "nbconvert_exporter": "python",
   "pygments_lexer": "ipython3",
   "version": "3.8.5"
  }
 },
 "nbformat": 4,
 "nbformat_minor": 4
}
